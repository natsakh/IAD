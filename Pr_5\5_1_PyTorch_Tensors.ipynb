{
  "nbformat": 4,
  "nbformat_minor": 0,
  "metadata": {
    "colab": {
      "provenance": [],
      "authorship_tag": "ABX9TyN6Rv5efPR6chZWrpS6b6Wn",
      "include_colab_link": true
    },
    "kernelspec": {
      "name": "python3",
      "display_name": "Python 3"
    },
    "language_info": {
      "name": "python"
    }
  },
  "cells": [
    {
      "cell_type": "markdown",
      "metadata": {
        "id": "view-in-github",
        "colab_type": "text"
      },
      "source": [
        "<a href=\"https://colab.research.google.com/github/natsakh/IAD/blob/main/Pr_5%5C5_1_PyTorch_Tensors.ipynb\" target=\"_parent\"><img src=\"https://colab.research.google.com/assets/colab-badge.svg\" alt=\"Open In Colab\"/></a>"
      ]
    },
    {
      "cell_type": "code",
      "source": [
        "import torch\n",
        "import numpy as np\n",
        "import matplotlib.pyplot as plt\n",
        "device = torch.device(\"cuda\" if torch.cuda.is_available() else \"cpu\")\n",
        "device"
      ],
      "metadata": {
        "id": "wcNW4H8PX-N3",
        "colab": {
          "base_uri": "https://localhost:8080/"
        },
        "outputId": "6d53add4-0c93-43d0-e961-a1d1bbf1e7f9"
      },
      "execution_count": 1,
      "outputs": [
        {
          "output_type": "execute_result",
          "data": {
            "text/plain": [
              "device(type='cpu')"
            ]
          },
          "metadata": {},
          "execution_count": 1
        }
      ]
    },
    {
      "cell_type": "markdown",
      "source": [
        "Tensors\n"
      ],
      "metadata": {
        "id": "75DKIcvToE5I"
      }
    },
    {
      "cell_type": "code",
      "source": [
        "x = torch.tensor([[0, 0, 1],[0, 1, 1],[1, 0, 1]])\n",
        "print(x)\n",
        "print(x.shape)"
      ],
      "metadata": {
        "colab": {
          "base_uri": "https://localhost:8080/"
        },
        "id": "48QmUCPsnroF",
        "outputId": "a3778f11-9bc2-4bd3-c938-0a82463050a1"
      },
      "execution_count": 2,
      "outputs": [
        {
          "output_type": "stream",
          "name": "stdout",
          "text": [
            "tensor([[0, 0, 1],\n",
            "        [0, 1, 1],\n",
            "        [1, 0, 1]])\n",
            "torch.Size([3, 3])\n"
          ]
        }
      ]
    },
    {
      "cell_type": "code",
      "source": [
        "x[0][0] = 5\n",
        "print(x)"
      ],
      "metadata": {
        "colab": {
          "base_uri": "https://localhost:8080/"
        },
        "id": "8zhHF3Ifo1jM",
        "outputId": "ce8ee712-c487-4b27-f62d-18d9b12146ad"
      },
      "execution_count": 3,
      "outputs": [
        {
          "output_type": "stream",
          "name": "stdout",
          "text": [
            "tensor([[5, 0, 1],\n",
            "        [0, 1, 1],\n",
            "        [1, 0, 1]])\n"
          ]
        }
      ]
    },
    {
      "cell_type": "code",
      "source": [
        "torch.zeros(2, 2)"
      ],
      "metadata": {
        "colab": {
          "base_uri": "https://localhost:8080/"
        },
        "id": "hOGC1RgZo3Wf",
        "outputId": "cd515ab0-33cf-4e49-8348-a584f16958a3"
      },
      "execution_count": 4,
      "outputs": [
        {
          "output_type": "execute_result",
          "data": {
            "text/plain": [
              "tensor([[0., 0.],\n",
              "        [0., 0.]])"
            ]
          },
          "metadata": {},
          "execution_count": 4
        }
      ]
    },
    {
      "cell_type": "code",
      "source": [
        "torch.ones(1, 2)"
      ],
      "metadata": {
        "colab": {
          "base_uri": "https://localhost:8080/"
        },
        "id": "QYu4cBtNpANg",
        "outputId": "46f2e2d6-1e2d-41e7-f797-cd2e6f698907"
      },
      "execution_count": 5,
      "outputs": [
        {
          "output_type": "execute_result",
          "data": {
            "text/plain": [
              "tensor([[1., 1.]])"
            ]
          },
          "metadata": {},
          "execution_count": 5
        }
      ]
    },
    {
      "cell_type": "code",
      "source": [
        "torch.rand(1).item() # створює тензор з одним випадковим числом у [0, 1) і повертає його як (float)(float32)"
      ],
      "metadata": {
        "colab": {
          "base_uri": "https://localhost:8080/"
        },
        "id": "LYrQ79sZpUXT",
        "outputId": "1ed87eb3-df45-44af-964c-fba84b687043"
      },
      "execution_count": 6,
      "outputs": [
        {
          "output_type": "execute_result",
          "data": {
            "text/plain": [
              "0.7600141763687134"
            ]
          },
          "metadata": {},
          "execution_count": 6
        }
      ]
    },
    {
      "cell_type": "code",
      "source": [
        "torch.rand(2, 2).max().item()"
      ],
      "metadata": {
        "colab": {
          "base_uri": "https://localhost:8080/"
        },
        "id": "JA9N8WkMrEXo",
        "outputId": "645a12f5-55d7-47c2-ba6d-f0c97f5e4914"
      },
      "execution_count": 7,
      "outputs": [
        {
          "output_type": "execute_result",
          "data": {
            "text/plain": [
              "0.46674221754074097"
            ]
          },
          "metadata": {},
          "execution_count": 7
        }
      ]
    },
    {
      "cell_type": "code",
      "source": [
        "x = torch.tensor([[1., 2.],[3., 4.]], dtype=torch.float32, device=device)\n",
        "y = torch.ones_like(x)\n",
        "z = x + 2*y  # broadcasting приклад\n",
        "print(\"x:\", x)\n",
        "print(\"y:\", y)\n",
        "print(\"z:\", z)\n",
        "print(\"dtype:\", z.dtype, \"device:\", z.device, \"shape:\", z.shape)\n",
        "\n",
        "# Перетворення з/до NumPy\n",
        "a = z.cpu().numpy()\n",
        "b = torch.from_numpy(a).to(device)\n",
        "a[:1,:1], b[:1,:1] # показує перший елемент із масиву NumPy (a) і поверненого тензора PyTorch (b)"
      ],
      "metadata": {
        "colab": {
          "base_uri": "https://localhost:8080/"
        },
        "id": "GvqA0wxbrRqv",
        "outputId": "f8a77d1c-e733-4ee4-900b-988b551900cc"
      },
      "execution_count": 8,
      "outputs": [
        {
          "output_type": "stream",
          "name": "stdout",
          "text": [
            "x: tensor([[1., 2.],\n",
            "        [3., 4.]])\n",
            "y: tensor([[1., 1.],\n",
            "        [1., 1.]])\n",
            "z: tensor([[3., 4.],\n",
            "        [5., 6.]])\n",
            "dtype: torch.float32 device: cpu shape: torch.Size([2, 2])\n"
          ]
        },
        {
          "output_type": "execute_result",
          "data": {
            "text/plain": [
              "(array([[3.]], dtype=float32), tensor([[3.]]))"
            ]
          },
          "metadata": {},
          "execution_count": 8
        }
      ]
    },
    {
      "cell_type": "code",
      "source": [
        "x = torch.tensor([[1., 2.],[3., 4.]], dtype=torch.float32)\n",
        "y = torch.ones_like(x)\n",
        "z = x + 2*y  # broadcasting приклад\n",
        "print(\"x:\", x)\n",
        "print(\"y:\", y)\n",
        "print(\"z:\", z)\n",
        "print(\"dtype:\", z.dtype, \"device:\", z.device, \"shape:\", z.shape)\n",
        "\n",
        "# Перетворення з/до NumPy\n",
        "a = z.numpy()\n",
        "b = torch.from_numpy(a)\n",
        "a[:1,:1], b[:1,:1]"
      ],
      "metadata": {
        "colab": {
          "base_uri": "https://localhost:8080/"
        },
        "id": "q6zZ0tgFqfMS",
        "outputId": "ddaf4c3d-18a1-4d76-f287-9715d29f03a8"
      },
      "execution_count": 9,
      "outputs": [
        {
          "output_type": "stream",
          "name": "stdout",
          "text": [
            "x: tensor([[1., 2.],\n",
            "        [3., 4.]])\n",
            "y: tensor([[1., 1.],\n",
            "        [1., 1.]])\n",
            "z: tensor([[3., 4.],\n",
            "        [5., 6.]])\n",
            "dtype: torch.float32 device: cpu shape: torch.Size([2, 2])\n"
          ]
        },
        {
          "output_type": "execute_result",
          "data": {
            "text/plain": [
              "(array([[3.]], dtype=float32), tensor([[3.]]))"
            ]
          },
          "metadata": {},
          "execution_count": 9
        }
      ]
    },
    {
      "cell_type": "code",
      "source": [
        "flat_tensor = torch.rand(784)\n",
        "reshaped_tensor = flat_tensor.reshape(1, 28, 28)\n",
        "c_tensor = reshaped_tensor.permute(1, 2, 0)\n",
        "print(flat_tensor.shape)\n",
        "print(reshaped_tensor.shape)\n",
        "print(c_tensor.shape)"
      ],
      "metadata": {
        "colab": {
          "base_uri": "https://localhost:8080/"
        },
        "id": "TkzRB1xpuyh5",
        "outputId": "632a96dd-f817-458a-db84-e1dbe8be4e14"
      },
      "execution_count": 10,
      "outputs": [
        {
          "output_type": "stream",
          "name": "stdout",
          "text": [
            "torch.Size([784])\n",
            "torch.Size([1, 28, 28])\n",
            "torch.Size([28, 28, 1])\n"
          ]
        }
      ]
    },
    {
      "cell_type": "markdown",
      "source": [
        "Gradients"
      ],
      "metadata": {
        "id": "l2AhOZ3PqR2E"
      }
    },
    {
      "cell_type": "code",
      "source": [
        "# %% Create a tensor\n",
        "x = torch.tensor(1.0)\n",
        "print(\"x =\", x)\n",
        "\n",
        "# %% Simple calculations\n",
        "y = 2 * x + 5\n",
        "print(\"y = 2 * x + 5 =\", y)\n",
        "\n",
        "# %% Automatic gradient calculation\n",
        "print(\"requires_grad flag:\", x.requires_grad)  # False by default"
      ],
      "metadata": {
        "colab": {
          "base_uri": "https://localhost:8080/"
        },
        "id": "3f4yx0idYJww",
        "outputId": "21fb0fac-65f9-4964-9075-0e18af82cfb9"
      },
      "execution_count": 11,
      "outputs": [
        {
          "output_type": "stream",
          "name": "stdout",
          "text": [
            "x = tensor(1.)\n",
            "y = 2 * x + 5 = tensor(7.)\n",
            "requires_grad flag: False\n"
          ]
        }
      ]
    },
    {
      "cell_type": "code",
      "source": [
        "# Set requires_grad after creation\n",
        "x.requires_grad_()\n",
        "print(\"requires_grad now:\", x.requires_grad)"
      ],
      "metadata": {
        "colab": {
          "base_uri": "https://localhost:8080/"
        },
        "id": "1bkJ25EnZuHw",
        "outputId": "8541151c-8fa9-4411-c7d0-990de462911d"
      },
      "execution_count": 12,
      "outputs": [
        {
          "output_type": "stream",
          "name": "stdout",
          "text": [
            "requires_grad now: True\n"
          ]
        }
      ]
    },
    {
      "cell_type": "code",
      "source": [
        "# створюємо тензор з requires_grad=True\n",
        "x = torch.tensor(1.0, requires_grad=True)\n",
        "\n",
        "# визначаємо функцію y = x^2 + 5\n",
        "y = x**2 + 5\n",
        "\n",
        "# обчислюємо похідну dy/dx\n",
        "y.backward()\n",
        "\n",
        "print(\"Значення y при x=1:\", y.item())\n",
        "print(\"Похідна dy/dx при x=1:\", x.grad.item())"
      ],
      "metadata": {
        "colab": {
          "base_uri": "https://localhost:8080/"
        },
        "id": "gKIDgMa9bSjH",
        "outputId": "1aef4dd4-9d9c-44a8-a281-19944140b378"
      },
      "execution_count": 13,
      "outputs": [
        {
          "output_type": "stream",
          "name": "stdout",
          "text": [
            "Значення y при x=1: 6.0\n",
            "Похідна dy/dx при x=1: 2.0\n"
          ]
        }
      ]
    },
    {
      "cell_type": "code",
      "source": [
        "device = torch.device(\"cuda\" if torch.cuda.is_available() else \"cpu\")\n",
        "device"
      ],
      "metadata": {
        "colab": {
          "base_uri": "https://localhost:8080/"
        },
        "id": "sxoyWkRyc00D",
        "outputId": "7fb0555e-10ed-48cb-d248-96a698f62534"
      },
      "execution_count": 14,
      "outputs": [
        {
          "output_type": "execute_result",
          "data": {
            "text/plain": [
              "device(type='cpu')"
            ]
          },
          "metadata": {},
          "execution_count": 14
        }
      ]
    },
    {
      "cell_type": "markdown",
      "source": [
        "Щоб перейти на GPU (Colab)  \n",
        "Runtime → Change runtime type  \n",
        "\n",
        "У вікні, що відкриється -> Hardware accelerator -> GPU(за замовчуванням там стоїть None → означає CPU)  \n",
        "\n",
        "Save\n",
        "\n",
        "Colab Free\n",
        "\n",
        "Час сесії: зазвичай до 12 годин (після цього сесія відключається, навіть якщо ще є ресурс).\n",
        "\n",
        "Ліміти використання: приблизно 20–30 годин GPU на тиждень"
      ],
      "metadata": {
        "id": "GTGq43EAe73H"
      }
    }
  ]
}