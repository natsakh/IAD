{
  "nbformat": 4,
  "nbformat_minor": 0,
  "metadata": {
    "colab": {
      "provenance": [],
      "authorship_tag": "ABX9TyMg9A7pYRiAQl4WbXW45LEr",
      "include_colab_link": true
    },
    "kernelspec": {
      "name": "python3",
      "display_name": "Python 3"
    },
    "language_info": {
      "name": "python"
    }
  },
  "cells": [
    {
      "cell_type": "markdown",
      "metadata": {
        "id": "view-in-github",
        "colab_type": "text"
      },
      "source": [
        "<a href=\"https://colab.research.google.com/github/natsakh/IAD/blob/main/Pr_5/5_6_MLP_custom_data.ipynb\" target=\"_parent\"><img src=\"https://colab.research.google.com/assets/colab-badge.svg\" alt=\"Open In Colab\"/></a>"
      ]
    },
    {
      "cell_type": "code",
      "execution_count": 1,
      "metadata": {
        "colab": {
          "base_uri": "https://localhost:8080/"
        },
        "id": "vZ7nevypU7WH",
        "outputId": "09ac5f63-d4d0-4705-c6fd-d63ba023e098"
      },
      "outputs": [
        {
          "output_type": "stream",
          "name": "stdout",
          "text": [
            "Device: cpu\n"
          ]
        }
      ],
      "source": [
        "import torch\n",
        "import torch.nn as nn\n",
        "from torch.utils.data import TensorDataset, DataLoader\n",
        "from sklearn.datasets import load_wine\n",
        "from sklearn.model_selection import train_test_split\n",
        "from sklearn.preprocessing import StandardScaler\n",
        "import pandas as pd\n",
        "import random\n",
        "\n",
        "torch.manual_seed(42)\n",
        "random.seed(42)\n",
        "\n",
        "device = torch.device(\"cuda\" if torch.cuda.is_available() else \"cpu\")\n",
        "print(\"Device:\", device)"
      ]
    },
    {
      "cell_type": "code",
      "source": [
        "# Завантажуємо і нормалізуємо дані(see https://github.com/natsakh/IAD/blob/main/Pr_2/2_3_SVM.ipynb)\n",
        "wine = load_wine()\n",
        "X = wine['data']\n",
        "y = wine['target']\n",
        "\n",
        "num_input_feat = X.shape[1]\n",
        "print('num_of_samples: ', X.shape[0])\n",
        "print('num_input_feat: ', num_input_feat)\n",
        "print('target_names', wine['target_names'])\n",
        "num_outputs = len(wine['target_names'])\n",
        "print('num_outputs', num_outputs)\n",
        "\n",
        "scaler = StandardScaler()\n",
        "X = scaler.fit_transform(X)\n",
        "\n",
        "# train/test split\n",
        "X_train, X_test, y_train, y_test = train_test_split(X, y, test_size=0.2, random_state=42)"
      ],
      "metadata": {
        "colab": {
          "base_uri": "https://localhost:8080/"
        },
        "id": "xAJ6Y7U7NRfC",
        "outputId": "429ba421-5820-4525-f7d9-baad268b208d"
      },
      "execution_count": 2,
      "outputs": [
        {
          "output_type": "stream",
          "name": "stdout",
          "text": [
            "num_of_samples:  178\n",
            "num_input_feat:  13\n",
            "target_names ['class_0' 'class_1' 'class_2']\n",
            "num_outputs 3\n"
          ]
        }
      ]
    },
    {
      "cell_type": "code",
      "source": [
        "# Перетворюємо у тензори\n",
        "X_train = torch.tensor(X_train, dtype=torch.float32)\n",
        "y_train = torch.tensor(y_train, dtype=torch.long)\n",
        "X_test  = torch.tensor(X_test,  dtype=torch.float32)\n",
        "y_test  = torch.tensor(y_test,  dtype=torch.long)"
      ],
      "metadata": {
        "id": "ajx8X00GNcTw"
      },
      "execution_count": 3,
      "outputs": []
    },
    {
      "cell_type": "code",
      "source": [
        "# Створюємо TensorDataset\n",
        "train_data = TensorDataset(X_train, y_train)\n",
        "test_data  = TensorDataset(X_test, y_test)\n",
        "\n",
        "# Створюємо DataLoader-и\n",
        "train_loader = DataLoader(train_data, batch_size=32, shuffle=True)\n",
        "test_loader  = DataLoader(test_data,  batch_size=32, shuffle=False)"
      ],
      "metadata": {
        "id": "3BY1nCKPNeT8"
      },
      "execution_count": 4,
      "outputs": []
    },
    {
      "cell_type": "code",
      "source": [
        "for xb, yb in train_loader:\n",
        "    print(xb.shape, yb.shape)\n",
        "    break"
      ],
      "metadata": {
        "colab": {
          "base_uri": "https://localhost:8080/"
        },
        "id": "BXdqzHFgNwAr",
        "outputId": "2698cecf-3bfc-4932-b6bb-2ec17ba2b83d"
      },
      "execution_count": 5,
      "outputs": [
        {
          "output_type": "stream",
          "name": "stdout",
          "text": [
            "torch.Size([32, 13]) torch.Size([32])\n"
          ]
        }
      ]
    },
    {
      "cell_type": "code",
      "source": [
        "# Model: MLP\n",
        "class WineMLP(nn.Module):\n",
        "    def __init__(self):\n",
        "        super().__init__()\n",
        "        self.net = nn.Sequential(\n",
        "            nn.Linear(num_input_feat, 64), nn.ReLU(),\n",
        "            nn.Linear(64, 32), nn.ReLU(),\n",
        "            nn.Linear(32, num_outputs)   # logits для 3 класів\n",
        "        )\n",
        "\n",
        "    def forward(self, x):\n",
        "        logits = self.net(x)\n",
        "        return logits\n",
        "\n",
        "model = WineMLP().to(device)\n",
        "print(model)"
      ],
      "metadata": {
        "colab": {
          "base_uri": "https://localhost:8080/"
        },
        "id": "uiw1T1cdVmv5",
        "outputId": "42699e88-2a42-42e1-d31e-da3e22c45337"
      },
      "execution_count": 6,
      "outputs": [
        {
          "output_type": "stream",
          "name": "stdout",
          "text": [
            "WineMLP(\n",
            "  (net): Sequential(\n",
            "    (0): Linear(in_features=13, out_features=64, bias=True)\n",
            "    (1): ReLU()\n",
            "    (2): Linear(in_features=64, out_features=32, bias=True)\n",
            "    (3): ReLU()\n",
            "    (4): Linear(in_features=32, out_features=3, bias=True)\n",
            "  )\n",
            ")\n"
          ]
        }
      ]
    },
    {
      "cell_type": "code",
      "source": [
        "for name, param in model.named_parameters():\n",
        "    if param.requires_grad:\n",
        "        print(name, param.numel())\n"
      ],
      "metadata": {
        "colab": {
          "base_uri": "https://localhost:8080/"
        },
        "id": "4DUfzvbmV3zQ",
        "outputId": "201c1b8a-688e-46b9-80a6-f2cc69188bcc"
      },
      "execution_count": 7,
      "outputs": [
        {
          "output_type": "stream",
          "name": "stdout",
          "text": [
            "net.0.weight 832\n",
            "net.0.bias 64\n",
            "net.2.weight 2048\n",
            "net.2.bias 32\n",
            "net.4.weight 96\n",
            "net.4.bias 3\n"
          ]
        }
      ]
    },
    {
      "cell_type": "code",
      "source": [
        "# Loss & Optimizer\n",
        "criterion = nn.CrossEntropyLoss()\n",
        "optimizer = torch.optim.Adam(model.parameters(), lr=1e-3)"
      ],
      "metadata": {
        "id": "NkS_xka0WKC-"
      },
      "execution_count": 8,
      "outputs": []
    },
    {
      "cell_type": "code",
      "source": [
        "n_epochs = 15"
      ],
      "metadata": {
        "id": "usMgO4uSxKfT"
      },
      "execution_count": 9,
      "outputs": []
    },
    {
      "cell_type": "code",
      "source": [
        "# навчання\n",
        "train_loss_history = []\n",
        "val_loss_history = []\n",
        "for epoch in range(n_epochs):\n",
        "\n",
        "    # --- train ---\n",
        "    model.train()\n",
        "    train_loss = 0.0\n",
        "    for x, y in train_loader:\n",
        "        x, y = x.to(device), y.to(device)\n",
        "        optimizer.zero_grad()\n",
        "        out = model(x)\n",
        "        loss = criterion(out, y)\n",
        "        loss.backward()\n",
        "        optimizer.step()\n",
        "        train_loss += loss.item()\n",
        "    train_loss /= len(train_loader)\n",
        "\n",
        "    # --- validation ---\n",
        "    model.eval()\n",
        "    val_loss = 0.0\n",
        "    with torch.no_grad():\n",
        "        for x, y in test_loader:\n",
        "            x, y = x.to(device), y.to(device)\n",
        "            out = model(x)\n",
        "            loss = criterion(out, y)\n",
        "            val_loss += loss.item()\n",
        "    val_loss /= len(test_loader)\n",
        "\n",
        "    train_loss_history.append(train_loss)\n",
        "    val_loss_history.append(val_loss)\n",
        "    print(f\"[{epoch+1:02d}] train_loss={train_loss:.4f} | val_loss={val_loss:.4f}\")\n"
      ],
      "metadata": {
        "colab": {
          "base_uri": "https://localhost:8080/"
        },
        "id": "RRznyd40xVrA",
        "outputId": "15865044-28cf-45c6-b3a7-4e1ca11c797f"
      },
      "execution_count": 10,
      "outputs": [
        {
          "output_type": "stream",
          "name": "stdout",
          "text": [
            "[01] train_loss=1.0816 | val_loss=1.0761\n",
            "[02] train_loss=1.0254 | val_loss=1.0287\n",
            "[03] train_loss=0.9676 | val_loss=0.9788\n",
            "[04] train_loss=0.9175 | val_loss=0.9233\n",
            "[05] train_loss=0.8548 | val_loss=0.8595\n",
            "[06] train_loss=0.7964 | val_loss=0.7861\n",
            "[07] train_loss=0.7148 | val_loss=0.7049\n",
            "[08] train_loss=0.6309 | val_loss=0.6173\n",
            "[09] train_loss=0.5490 | val_loss=0.5281\n",
            "[10] train_loss=0.4684 | val_loss=0.4417\n",
            "[11] train_loss=0.3978 | val_loss=0.3631\n",
            "[12] train_loss=0.3233 | val_loss=0.2940\n",
            "[13] train_loss=0.2814 | val_loss=0.2341\n",
            "[14] train_loss=0.2278 | val_loss=0.1866\n",
            "[15] train_loss=0.1882 | val_loss=0.1500\n"
          ]
        }
      ]
    },
    {
      "cell_type": "code",
      "source": [
        "import matplotlib.pyplot as plt\n",
        "epochs = range(1, len(train_loss_history) + 1)\n",
        "plt.plot(epochs, train_loss_history, \"bo\", label=\"Training loss\")\n",
        "plt.plot(epochs, val_loss_history, \"b\", label=\"Validation loss\")\n",
        "plt.title(\"Training and validation loss\")\n",
        "plt.xlabel(\"Epochs\")\n",
        "plt.ylabel(\"Loss\")\n",
        "plt.legend()\n",
        "plt.show()"
      ],
      "metadata": {
        "colab": {
          "base_uri": "https://localhost:8080/",
          "height": 472
        },
        "id": "iNBVntlZIGos",
        "outputId": "635018ee-a3dc-45fb-f445-2bbb7f74fdff"
      },
      "execution_count": 11,
      "outputs": [
        {
          "output_type": "display_data",
          "data": {
            "text/plain": [
              "<Figure size 640x480 with 1 Axes>"
            ],
            "image/png": "[encoded data removed]"
          },
          "metadata": {}
        }
      ]
    },
    {
      "cell_type": "code",
      "source": [
        "#test accuracy (just to print once more)\n",
        "model.eval()\n",
        "correct, total = 0, 0\n",
        "with torch.no_grad():\n",
        "    for x, y in test_loader:\n",
        "        x, y = x.to(device), y.to(device)\n",
        "        preds = model(x).argmax(dim=1)\n",
        "        correct += (preds == y).sum().item()\n",
        "        total += y.size(0)\n",
        "\n",
        "print(f\"Final Test Accuracy: {correct/total*100:.2f}%\")"
      ],
      "metadata": {
        "colab": {
          "base_uri": "https://localhost:8080/"
        },
        "id": "mAuwE9C6U_V4",
        "outputId": "75dc7ebc-ad36-4e29-daf0-467bbe5c2ed7"
      },
      "execution_count": 12,
      "outputs": [
        {
          "output_type": "stream",
          "name": "stdout",
          "text": [
            "Final Test Accuracy: 100.00%\n"
          ]
        }
      ]
    }
  ]
}