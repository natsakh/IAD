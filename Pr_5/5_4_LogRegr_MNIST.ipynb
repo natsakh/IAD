{
  "nbformat": 4,
  "nbformat_minor": 0,
  "metadata": {
    "colab": {
      "provenance": [],
      "authorship_tag": "ABX9TyO2gBIgPMBCtcxpK9K6Z4yd",
      "include_colab_link": true
    },
    "kernelspec": {
      "name": "python3",
      "display_name": "Python 3"
    },
    "language_info": {
      "name": "python"
    }
  },
  "cells": [
    {
      "cell_type": "markdown",
      "metadata": {
        "id": "view-in-github",
        "colab_type": "text"
      },
      "source": [
        "<a href=\"https://colab.research.google.com/github/natsakh/IAD/blob/main/Pr_5/5_4_LogRegr_MNIST.ipynb\" target=\"_parent\"><img src=\"https://colab.research.google.com/assets/colab-badge.svg\" alt=\"Open In Colab\"/></a>"
      ]
    },
    {
      "cell_type": "code",
      "execution_count": 1,
      "metadata": {
        "colab": {
          "base_uri": "https://localhost:8080/"
        },
        "id": "vZ7nevypU7WH",
        "outputId": "87a546a8-c991-48d9-8cd6-6e0eeeeb2d2c"
      },
      "outputs": [
        {
          "output_type": "stream",
          "name": "stdout",
          "text": [
            "Device: cpu\n"
          ]
        }
      ],
      "source": [
        "import torch\n",
        "import torch.nn as nn\n",
        "from torch.utils.data import DataLoader\n",
        "from torchvision import datasets, transforms\n",
        "import random\n",
        "\n",
        "torch.manual_seed(42)\n",
        "random.seed(42)\n",
        "\n",
        "device = torch.device(\"cuda\" if torch.cuda.is_available() else \"cpu\")\n",
        "print(\"Device:\", device)"
      ]
    },
    {
      "cell_type": "markdown",
      "source": [
        "<small>[https://docs.pytorch.org/vision/0.8/datasets.html](https://docs.pytorch.org/vision/0.8/datasets.html)</small>\n",
        "\n",
        "<small>[https://docs.pytorch.org/vision/stable/_modules/torchvision/datasets/mnist.html](https://docs.pytorch.org/vision/stable/_modules/torchvision/datasets/mnist.html)</small>\n",
        "\n",
        "<small>[https://docs.pytorch.org/vision/main/generated/torchvision.transforms.ToTensor.html](https://docs.pytorch.org/vision/main/generated/torchvision.transforms.ToTensor.html)</small>\n"
      ],
      "metadata": {
        "id": "Vehqq_v-lgpm"
      }
    },
    {
      "cell_type": "code",
      "source": [
        " # MNIST dataset (images 28x28 → tensors in [0,1])\n",
        "transform = transforms.ToTensor()\n",
        "\n",
        "train_set = datasets.MNIST(root=\"./data\", train=True,  download=True, transform=transform)\n",
        "test_set  = datasets.MNIST(root=\"./data\", train=False, download=True, transform=transform)\n",
        "#train_set, test_set —  об’єкти класу torchvision.datasets.MNIST"
      ],
      "metadata": {
        "id": "gsYU1Jw_VSDg",
        "colab": {
          "base_uri": "https://localhost:8080/"
        },
        "outputId": "cb248378-94b6-4bd6-f2b5-d5bf23068741"
      },
      "execution_count": 2,
      "outputs": [
        {
          "output_type": "stream",
          "name": "stderr",
          "text": [
            "100%|██████████| 9.91M/9.91M [00:00<00:00, 56.1MB/s]\n",
            "100%|██████████| 28.9k/28.9k [00:00<00:00, 1.65MB/s]\n",
            "100%|██████████| 1.65M/1.65M [00:00<00:00, 14.6MB/s]\n",
            "100%|██████████| 4.54k/4.54k [00:00<00:00, 9.08MB/s]\n"
          ]
        }
      ]
    },
    {
      "cell_type": "code",
      "source": [
        "print(type(train_set))\n",
        "print(len(train_set))\n",
        "print(len(test_set))"
      ],
      "metadata": {
        "colab": {
          "base_uri": "https://localhost:8080/"
        },
        "id": "aYlmlmMkkBIc",
        "outputId": "b747505c-1e60-4e39-d197-a0b02be224ed"
      },
      "execution_count": 3,
      "outputs": [
        {
          "output_type": "stream",
          "name": "stdout",
          "text": [
            "<class 'torchvision.datasets.mnist.MNIST'>\n",
            "60000\n",
            "10000\n"
          ]
        }
      ]
    },
    {
      "cell_type": "code",
      "source": [
        "img, label = train_set[0]\n",
        "\n",
        "print(\"Type:\", type(img))\n",
        "print(\"Shape:\", img.shape) #(1 канал, тобто чорно-біле зображення 28×28 пікселів)\n",
        "print(\"Label:\", label)\n",
        "print(\"Min:\", img.min().item(), \"Max:\", img.max().item())"
      ],
      "metadata": {
        "colab": {
          "base_uri": "https://localhost:8080/"
        },
        "id": "OlJ6NsRdi4fj",
        "outputId": "0415496f-fd12-4e9d-b37d-2d888b34a647"
      },
      "execution_count": 4,
      "outputs": [
        {
          "output_type": "stream",
          "name": "stdout",
          "text": [
            "Type: <class 'torch.Tensor'>\n",
            "Shape: torch.Size([1, 28, 28])\n",
            "Label: 5\n",
            "Min: 0.0 Max: 1.0\n"
          ]
        }
      ]
    },
    {
      "cell_type": "code",
      "source": [
        "# DataLoaders\n",
        "batch_size = 128\n",
        "train_loader = DataLoader(train_set, batch_size=batch_size, shuffle=True)\n",
        "test_loader  = DataLoader(test_set,  batch_size=batch_size, shuffle=False)"
      ],
      "metadata": {
        "id": "hnayWxqyWriK"
      },
      "execution_count": 5,
      "outputs": []
    },
    {
      "cell_type": "code",
      "source": [
        "# Model: Logistic Regression = Linear(784 -> 10)\n",
        "class LogisticRegressionMNIST(nn.Module):\n",
        "    def __init__(self):\n",
        "        super().__init__()\n",
        "        self.linear = nn.Linear(28*28, 10)  # logits for 10 classes\n",
        "\n",
        "    def forward(self, x):\n",
        "        x = x.reshape(x.size(0), -1)           # flatten: [B, 1, 28, 28] -> [B, 784]\n",
        "        logits = self.linear(x)             # no softmax here!\n",
        "        return logits  #logit — це лінійний вихід моделі до застосування сигмоїди (або softmax)\n",
        "\n",
        "model = LogisticRegressionMNIST().to(device)\n",
        "print(model)"
      ],
      "metadata": {
        "colab": {
          "base_uri": "https://localhost:8080/"
        },
        "id": "uiw1T1cdVmv5",
        "outputId": "622b4154-56e2-4c39-9448-e9c1edc245de"
      },
      "execution_count": 6,
      "outputs": [
        {
          "output_type": "stream",
          "name": "stdout",
          "text": [
            "LogisticRegressionMNIST(\n",
            "  (linear): Linear(in_features=784, out_features=10, bias=True)\n",
            ")\n"
          ]
        }
      ]
    },
    {
      "cell_type": "code",
      "source": [
        "num_params = sum(p.numel() for p in model.parameters() if p.requires_grad)\n",
        "print(\"Trainable params:\", num_params)   # 784*10 + 10 = 7850\n"
      ],
      "metadata": {
        "colab": {
          "base_uri": "https://localhost:8080/"
        },
        "id": "4DUfzvbmV3zQ",
        "outputId": "852b1c6f-1431-4a75-e2d8-1852ca63c66c"
      },
      "execution_count": 7,
      "outputs": [
        {
          "output_type": "stream",
          "name": "stdout",
          "text": [
            "Trainable params: 7850\n"
          ]
        }
      ]
    },
    {
      "cell_type": "markdown",
      "source": [
        "<small>[https://docs.pytorch.org/docs/stable/generated/torch.nn.CrossEntropyLoss.html](https://docs.pytorch.org/docs/stable/generated/torch.nn.CrossEntropyLoss.html)</small>"
      ],
      "metadata": {
        "id": "JhORjsSRoqH0"
      }
    },
    {
      "cell_type": "code",
      "source": [
        "# Loss & Optimizer\n",
        "criterion = nn.CrossEntropyLoss()\n",
        "optimizer = torch.optim.Adam(model.parameters(), lr=1e-3)"
      ],
      "metadata": {
        "id": "NkS_xka0WKC-"
      },
      "execution_count": 8,
      "outputs": []
    },
    {
      "cell_type": "code",
      "source": [
        "# Training loop\n",
        "epochs = 5\n",
        "for epoch in range(epochs):\n",
        "    model.train()\n",
        "    running_loss = 0.0\n",
        "\n",
        "    for x, y in train_loader:\n",
        "        x, y = x.to(device), y.to(device)\n",
        "\n",
        "        optimizer.zero_grad()\n",
        "        logits = model(x)          # [B,10]\n",
        "        loss = criterion(logits, y)\n",
        "        loss.backward()\n",
        "        optimizer.step()\n",
        "\n",
        "        running_loss += loss.item()\n",
        "\n",
        "    avg_loss = running_loss / len(train_loader)\n",
        "\n",
        "    # test accuracy each epoch\n",
        "    model.eval()\n",
        "    correct, total = 0, 0\n",
        "    with torch.no_grad():\n",
        "        for x, y in test_loader:\n",
        "            x, y = x.to(device), y.to(device)\n",
        "            preds = model(x).argmax(dim=1)\n",
        "            correct += (preds == y).sum().item()\n",
        "            total += y.size(0)\n",
        "    acc = correct / total\n",
        "\n",
        "    print(f\"[{epoch+1}/{epochs}] loss={avg_loss:.4f} | test acc={acc*100:.2f}%\")\n"
      ],
      "metadata": {
        "colab": {
          "base_uri": "https://localhost:8080/"
        },
        "id": "PsE4FnJEWevP",
        "outputId": "91e4bdea-d14c-4ed8-a173-530c7de276f8"
      },
      "execution_count": 9,
      "outputs": [
        {
          "output_type": "stream",
          "name": "stdout",
          "text": [
            "[1/5] loss=0.6578 | test acc=90.27%\n",
            "[2/5] loss=0.3587 | test acc=91.24%\n",
            "[3/5] loss=0.3177 | test acc=91.90%\n",
            "[4/5] loss=0.2985 | test acc=92.02%\n",
            "[5/5] loss=0.2869 | test acc=92.26%\n"
          ]
        }
      ]
    }
  ]
}