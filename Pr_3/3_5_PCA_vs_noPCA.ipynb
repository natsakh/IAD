{
  "nbformat": 4,
  "nbformat_minor": 0,
  "metadata": {
    "colab": {
      "provenance": [],
      "authorship_tag": "ABX9TyOdhOsi86jyyyKEzJMmgg/g",
      "include_colab_link": true
    },
    "kernelspec": {
      "name": "python3",
      "display_name": "Python 3"
    },
    "language_info": {
      "name": "python"
    }
  },
  "cells": [
    {
      "cell_type": "markdown",
      "metadata": {
        "id": "view-in-github",
        "colab_type": "text"
      },
      "source": [
        "<a href=\"https://colab.research.google.com/github/natsakh/IAD/blob/main/Pr_3/3_5_PCA_vs_noPCA.ipynb\" target=\"_parent\"><img src=\"https://colab.research.google.com/assets/colab-badge.svg\" alt=\"Open In Colab\"/></a>"
      ]
    },
    {
      "cell_type": "code",
      "source": [
        "import time\n",
        "import numpy as np\n",
        "from sklearn.datasets import load_wine\n",
        "from sklearn.model_selection import train_test_split, StratifiedKFold, cross_val_score\n",
        "from sklearn.preprocessing import StandardScaler\n",
        "from sklearn.decomposition import PCA\n",
        "from sklearn.neighbors import KNeighborsClassifier\n",
        "from sklearn.pipeline import Pipeline\n",
        "from sklearn.metrics import accuracy_score, classification_report, confusion_matrix"
      ],
      "metadata": {
        "id": "4e23XwANkPu7"
      },
      "execution_count": 1,
      "outputs": []
    },
    {
      "cell_type": "code",
      "execution_count": 2,
      "metadata": {
        "colab": {
          "base_uri": "https://localhost:8080/"
        },
        "id": "d_HrhKtljE86",
        "outputId": "500e6c3a-6ac1-4b14-de13-d239bb21000b"
      },
      "outputs": [
        {
          "output_type": "stream",
          "name": "stdout",
          "text": [
            "CV accuracy (mean±std)\n",
            "  kNN (no PCA):      0.9553 ± 0.0431\n",
            "  PCA(0.95)+kNN:     0.9627 ± 0.0331\n"
          ]
        }
      ],
      "source": [
        "# Дані\n",
        "X, y = load_wine(return_X_y=True)\n",
        "X_train, X_test, y_train, y_test = train_test_split(\n",
        "    X, y, test_size=0.25, random_state=42, stratify=y)\n",
        "\n",
        "# Базова модель: kNN без PCA (але зі скейлом)\n",
        "pipe_knn = Pipeline([\n",
        "    (\"scaler\", StandardScaler()),\n",
        "    (\"knn\", KNeighborsClassifier(n_neighbors=5)) ])\n",
        "\n",
        "# Модель з PCA(0.95) + kNN\n",
        "pipe_pca_knn = Pipeline([\n",
        "    (\"scaler\", StandardScaler()),\n",
        "    (\"pca\", PCA(n_components=0.95, svd_solver=\"full\", random_state=42)),\n",
        "    (\"knn\", KNeighborsClassifier(n_neighbors=5)) ])\n",
        "\n",
        "# Крос-валідація для порівняння\n",
        "cv = StratifiedKFold(n_splits=5, shuffle=True, random_state=42)\n",
        "\n",
        "cv_knn = cross_val_score(pipe_knn, X_train, y_train, cv=cv, scoring=\"accuracy\")\n",
        "cv_pca_knn = cross_val_score(pipe_pca_knn, X_train, y_train, cv=cv, scoring=\"accuracy\")\n",
        "\n",
        "print(\"CV accuracy (mean±std)\")\n",
        "print(f\"  kNN (no PCA):      {cv_knn.mean():.4f} ± {cv_knn.std():.4f}\")\n",
        "print(f\"  PCA(0.95)+kNN:     {cv_pca_knn.mean():.4f} ± {cv_pca_knn.std():.4f}\")\n"
      ]
    },
    {
      "cell_type": "code",
      "source": [
        "# Навчання на train і оцінка на test + таймінги\n",
        "def fit_eval(pipeline, X_train, y_train, X_test, y_test, label=\"model\"):\n",
        "    t0 = time.perf_counter()\n",
        "    pipeline.fit(X_train, y_train)\n",
        "    t1 = time.perf_counter()\n",
        "    y_pred = pipeline.predict(X_test)\n",
        "    t2 = time.perf_counter()\n",
        "    acc = accuracy_score(y_test, y_pred)\n",
        "    print(f\"\\n{label}\")\n",
        "    if \"pca\" in dict(pipeline.named_steps):\n",
        "        pca = pipeline.named_steps[\"pca\"]\n",
        "        print(f\"  PCA kept components: {pca.n_components_} (of {X.shape[1]})\")\n",
        "        print(f\"  Explained variance sum: {pca.explained_variance_ratio_.sum():.3f}\")\n",
        "    print(f\"  Test accuracy: {acc:.4f}\")\n",
        "    print(f\"  Fit time: {t1 - t0:.4f}s | Predict time: {t2 - t1:.6f}s\")\n",
        "    print(\"  Confusion matrix:\\n\", confusion_matrix(y_test, y_pred))\n",
        "    print(\"  Classification report:\\n\", classification_report(y_test, y_pred, digits=4))\n",
        "\n",
        "fit_eval(pipe_knn, X_train, y_train, X_test, y_test, label=\"kNN (no PCA)\")\n",
        "fit_eval(pipe_pca_knn, X_train, y_train, X_test, y_test, label=\"PCA(0.95)+kNN\")"
      ],
      "metadata": {
        "colab": {
          "base_uri": "https://localhost:8080/"
        },
        "id": "BUHHb0KCkc9H",
        "outputId": "07a905c4-20a2-45e9-b295-951257b6dbb6"
      },
      "execution_count": 3,
      "outputs": [
        {
          "output_type": "stream",
          "name": "stdout",
          "text": [
            "\n",
            "kNN (no PCA)\n",
            "  Test accuracy: 0.9333\n",
            "  Fit time: 0.0078s | Predict time: 0.004992s\n",
            "  Confusion matrix:\n",
            " [[15  0  0]\n",
            " [ 0 16  2]\n",
            " [ 0  1 11]]\n",
            "  Classification report:\n",
            "               precision    recall  f1-score   support\n",
            "\n",
            "           0     1.0000    1.0000    1.0000        15\n",
            "           1     0.9412    0.8889    0.9143        18\n",
            "           2     0.8462    0.9167    0.8800        12\n",
            "\n",
            "    accuracy                         0.9333        45\n",
            "   macro avg     0.9291    0.9352    0.9314        45\n",
            "weighted avg     0.9354    0.9333    0.9337        45\n",
            "\n",
            "\n",
            "PCA(0.95)+kNN\n",
            "  PCA kept components: 10 (of 13)\n",
            "  Explained variance sum: 0.964\n",
            "  Test accuracy: 0.9556\n",
            "  Fit time: 0.0043s | Predict time: 0.003951s\n",
            "  Confusion matrix:\n",
            " [[15  0  0]\n",
            " [ 0 16  2]\n",
            " [ 0  0 12]]\n",
            "  Classification report:\n",
            "               precision    recall  f1-score   support\n",
            "\n",
            "           0     1.0000    1.0000    1.0000        15\n",
            "           1     1.0000    0.8889    0.9412        18\n",
            "           2     0.8571    1.0000    0.9231        12\n",
            "\n",
            "    accuracy                         0.9556        45\n",
            "   macro avg     0.9524    0.9630    0.9548        45\n",
            "weighted avg     0.9619    0.9556    0.9560        45\n",
            "\n"
          ]
        }
      ]
    }
  ]
}