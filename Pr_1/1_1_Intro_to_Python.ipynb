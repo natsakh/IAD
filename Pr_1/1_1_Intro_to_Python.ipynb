{
  "nbformat": 4,
  "nbformat_minor": 0,
  "metadata": {
    "colab": {
      "provenance": [],
      "authorship_tag": "ABX9TyN9wu5BYsGl57BfxWHikZiT",
      "include_colab_link": true
    },
    "kernelspec": {
      "name": "python3",
      "display_name": "Python 3"
    },
    "language_info": {
      "name": "python"
    }
  },
  "cells": [
    {
      "cell_type": "markdown",
      "metadata": {
        "id": "view-in-github",
        "colab_type": "text"
      },
      "source": [
        "<a href=\"https://colab.research.google.com/github/natsakh/IAD/blob/main/Pr_1/1_1_Intro_to_Python.ipynb\" target=\"_parent\"><img src=\"https://colab.research.google.com/assets/colab-badge.svg\" alt=\"Open In Colab\"/></a>"
      ]
    },
    {
      "cell_type": "markdown",
      "source": [
        "# Python\n",
        "## Quick Refresher on essential data structures, functions, and classes\n",
        "\n",
        "Python is an interpreted high-level general-purpose programming language.  \n",
        "Its design philosophy emphasizes code readability with its use of significant indentation.  \n",
        "Python is dynamically-typed and garbage-collected. It supports multiple programming paradigms,  \n",
        "including object-oriented and functional programming.\n"
      ],
      "metadata": {
        "id": "Gh2xEH73w1_7"
      }
    },
    {
      "cell_type": "markdown",
      "source": [
        "1. Data Structures"
      ],
      "metadata": {
        "id": "ZGKc4w72ZEN0"
      }
    },
    {
      "cell_type": "code",
      "source": [
        "# List: ordered, can contain duplicates\n",
        "fruits = ['apple', 'banana', 'cherry']\n",
        "fruits.append('date')  # add element\n",
        "\n",
        "# Dictionary: key → value mapping\n",
        "scores = {'Alice': 9, 'Bob': 7}\n",
        "scores['Charlie'] = 8\n",
        "print(f\"Alice's score: {scores['Alice']}\")  # access by key\n",
        "\n",
        "# Tuple: immutable sequence\n",
        "coords = (10.0, 20.0)\n",
        "\n",
        "# Set: unordered, unique elements\n",
        "unique_numbers = {1, 2, 3, 2}  # becomes {1,2,3}\n",
        "print(f\"Unique_numbers: {sorted(unique_numbers)}\")"
      ],
      "metadata": {
        "id": "I0tqiUvqZHy0",
        "collapsed": true,
        "colab": {
          "base_uri": "https://localhost:8080/"
        },
        "outputId": "06c3401a-9bff-4812-f913-9b79a5772b83"
      },
      "execution_count": 1,
      "outputs": [
        {
          "output_type": "stream",
          "name": "stdout",
          "text": [
            "Alice's score: 9\n",
            "Unique_numbers: [1, 2, 3]\n"
          ]
        }
      ]
    },
    {
      "cell_type": "code",
      "source": [
        "# Create a list of squares from 0 to 9\n",
        "squares = [x**2 for x in range(10)]\n",
        "print(squares)  # [0, 1, 4, 9, ..., 81]"
      ],
      "metadata": {
        "id": "S2Kgit_uaGHE",
        "colab": {
          "base_uri": "https://localhost:8080/"
        },
        "outputId": "585ea798-5dcf-411f-df40-dfd63181eb2a"
      },
      "execution_count": 2,
      "outputs": [
        {
          "output_type": "stream",
          "name": "stdout",
          "text": [
            "[0, 1, 4, 9, 16, 25, 36, 49, 64, 81]\n"
          ]
        }
      ]
    },
    {
      "cell_type": "code",
      "source": [
        "# Keep only even numbers\n",
        "even_numbers = [x for x in range(20) if x % 2 == 0]\n",
        "print(even_numbers)  # [0, 2, 4, ..., 18]"
      ],
      "metadata": {
        "id": "LNhnpb57aQtt",
        "colab": {
          "base_uri": "https://localhost:8080/"
        },
        "outputId": "970fbbf0-8493-42f0-b2e4-ec30189446ed"
      },
      "execution_count": 3,
      "outputs": [
        {
          "output_type": "stream",
          "name": "stdout",
          "text": [
            "[0, 2, 4, 6, 8, 10, 12, 14, 16, 18]\n"
          ]
        }
      ]
    },
    {
      "cell_type": "code",
      "source": [
        "# Flatten a 2D list\n",
        "matrix = [[1, 2], [3, 4], [5, 6]]\n",
        "flattened = [item for row in matrix for item in row]\n",
        "print(flattened)  # [1, 2, 3, 4, 5, 6]"
      ],
      "metadata": {
        "id": "6kzmALFsaTW9",
        "colab": {
          "base_uri": "https://localhost:8080/"
        },
        "outputId": "e0bf11b7-81b4-4306-a95e-f90e8120a939"
      },
      "execution_count": 4,
      "outputs": [
        {
          "output_type": "stream",
          "name": "stdout",
          "text": [
            "[1, 2, 3, 4, 5, 6]\n"
          ]
        }
      ]
    },
    {
      "cell_type": "markdown",
      "source": [
        "2. Control Flow & Loops"
      ],
      "metadata": {
        "id": "8nTYmeN9xQjL"
      }
    },
    {
      "cell_type": "code",
      "source": [
        "# Conditional\n",
        "if scores['Bob'] >= 8:\n",
        "    print(\"Bob did great!\")\n",
        "else:\n",
        "    print(\"Keep trying, Bob.\")\n",
        "\n",
        "# Looping over a list\n",
        "for fruit in fruits:\n",
        "    print(fruit)\n",
        "\n",
        "# Looping with condition\n",
        "for name, score in scores.items():\n",
        "    if score > 8:\n",
        "        print(name, \"is a top performer.\")\n"
      ],
      "metadata": {
        "id": "Ep207VX8xdez",
        "colab": {
          "base_uri": "https://localhost:8080/"
        },
        "outputId": "cae7b9a3-43c6-4aca-8adc-85be1177d548"
      },
      "execution_count": 5,
      "outputs": [
        {
          "output_type": "stream",
          "name": "stdout",
          "text": [
            "Keep trying, Bob.\n",
            "apple\n",
            "banana\n",
            "cherry\n",
            "date\n",
            "Alice is a top performer.\n"
          ]
        }
      ]
    },
    {
      "cell_type": "markdown",
      "source": [
        "3. Functions"
      ],
      "metadata": {
        "id": "KF-TX9f1xv_U"
      }
    },
    {
      "cell_type": "code",
      "source": [
        "def square(x):\n",
        "    \"\"\"Return x squared.\"\"\"\n",
        "    return x * x\n",
        "\n",
        "print(square(5))  # 25\n"
      ],
      "metadata": {
        "id": "Zbtr-ecgxvQM",
        "colab": {
          "base_uri": "https://localhost:8080/"
        },
        "outputId": "99e1cdbf-7bbe-4cbf-afab-630939c57182"
      },
      "execution_count": 6,
      "outputs": [
        {
          "output_type": "stream",
          "name": "stdout",
          "text": [
            "25\n"
          ]
        }
      ]
    },
    {
      "cell_type": "markdown",
      "source": [
        "4. Classes"
      ],
      "metadata": {
        "id": "c26WPnLWx3z7"
      }
    },
    {
      "cell_type": "code",
      "source": [
        "class Student:\n",
        "    def __init__(self, name, score):\n",
        "        self.name = name\n",
        "        self.score = score\n",
        "\n",
        "    def grade(self):\n",
        "        # return letter grade based on numeric score\n",
        "        if self.score >= 90:\n",
        "            return 'A'\n",
        "        elif self.score >= 80:\n",
        "            return 'B'\n",
        "        elif self.score >= 70:\n",
        "            return 'C'\n",
        "        else:\n",
        "            return 'F'\n",
        "\n",
        "s = Student('Dana', 85)\n",
        "print(s.name, s.grade())  # Dana B\n"
      ],
      "metadata": {
        "id": "TnyYywBIx3Ck",
        "colab": {
          "base_uri": "https://localhost:8080/"
        },
        "outputId": "acc53dcd-e712-479f-c1cc-156732e25a2a"
      },
      "execution_count": 7,
      "outputs": [
        {
          "output_type": "stream",
          "name": "stdout",
          "text": [
            "Dana B\n"
          ]
        }
      ]
    },
    {
      "cell_type": "markdown",
      "source": [
        "# Further Resources\n",
        "\n",
        "[Official Python Tutorial (docs.python.org)](https://docs.python.org/3/tutorial/index.html)\n"
      ],
      "metadata": {
        "id": "5o06rK3AyTX0"
      }
    },
    {
      "cell_type": "code",
      "source": [],
      "metadata": {
        "id": "OTddiS8ADj2y"
      },
      "execution_count": 7,
      "outputs": []
    }
  ]
}