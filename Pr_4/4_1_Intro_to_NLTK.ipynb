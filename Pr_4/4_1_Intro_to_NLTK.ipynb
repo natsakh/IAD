{
  "cells": [
    {
      "cell_type": "markdown",
      "metadata": {
        "id": "view-in-github",
        "colab_type": "text"
      },
      "source": [
        "<a href=\"https://colab.research.google.com/github/natsakh/IAD/blob/main/Pr_4/4_1_Intro_to_NLTK.ipynb\" target=\"_parent\"><img src=\"https://colab.research.google.com/assets/colab-badge.svg\" alt=\"Open In Colab\"/></a>"
      ]
    },
    {
      "cell_type": "markdown",
      "metadata": {
        "id": "PNgMuY6dcLE2"
      },
      "source": [
        "# Introduction to NLTK lib\n",
        "for more information http://www.nltk.org/book"
      ]
    },
    {
      "cell_type": "code",
      "execution_count": 1,
      "metadata": {
        "id": "druyiaW6cLE5",
        "colab": {
          "base_uri": "https://localhost:8080/"
        },
        "outputId": "75579b81-3429-486b-a746-9ff06f57ab4b"
      },
      "outputs": [
        {
          "output_type": "stream",
          "name": "stderr",
          "text": [
            "[nltk_data] Downloading package punkt_tab to /root/nltk_data...\n",
            "[nltk_data]   Package punkt_tab is already up-to-date!\n",
            "[nltk_data] Downloading package stopwords to /root/nltk_data...\n",
            "[nltk_data]   Package stopwords is already up-to-date!\n",
            "[nltk_data] Downloading package wordnet to /root/nltk_data...\n",
            "[nltk_data]   Package wordnet is already up-to-date!\n",
            "[nltk_data] Downloading package averaged_perceptron_tagger_eng to\n",
            "[nltk_data]     /root/nltk_data...\n",
            "[nltk_data]   Package averaged_perceptron_tagger_eng is already up-to-\n",
            "[nltk_data]       date!\n",
            "[nltk_data] Downloading package tagsets_json to /root/nltk_data...\n",
            "[nltk_data]   Package tagsets_json is already up-to-date!\n"
          ]
        }
      ],
      "source": [
        "import nltk\n",
        "nltk.download('punkt_tab')\n",
        "nltk.download('stopwords')\n",
        "nltk.download('wordnet')\n",
        "nltk.download('averaged_perceptron_tagger_eng')\n",
        "nltk.download('tagsets_json')\n",
        "\n",
        "from nltk.tokenize import word_tokenize\n",
        "from nltk.corpus import stopwords\n",
        "from nltk.stem import PorterStemmer, WordNetLemmatizer"
      ]
    },
    {
      "cell_type": "markdown",
      "metadata": {
        "id": "v8f3MgpmcLE6"
      },
      "source": [
        "## Tokenization"
      ]
    },
    {
      "cell_type": "code",
      "execution_count": 2,
      "metadata": {
        "id": "fvdSNmkQcLE6"
      },
      "outputs": [],
      "source": [
        "text = 'Data science is a multi-disciplinary field that uses scientific methods, processes, algorithms and systems to extract knowledge and insights from structured and unstructured data.'"
      ]
    },
    {
      "cell_type": "code",
      "execution_count": 3,
      "metadata": {
        "id": "0kG-01OtcLE6",
        "outputId": "a32ce3b7-6b0c-41fc-ac22-d3fa88ae478f",
        "colab": {
          "base_uri": "https://localhost:8080/"
        }
      },
      "outputs": [
        {
          "output_type": "execute_result",
          "data": {
            "text/plain": [
              "['Data', 'science', 'is', 'a', 'multi-disciplinary']"
            ]
          },
          "metadata": {},
          "execution_count": 3
        }
      ],
      "source": [
        "words = word_tokenize(text)\n",
        "words[:5]"
      ]
    },
    {
      "cell_type": "markdown",
      "metadata": {
        "id": "urTWvIZ_cLE7"
      },
      "source": [
        "## Stop words filtration"
      ]
    },
    {
      "cell_type": "code",
      "execution_count": 4,
      "metadata": {
        "id": "YFOg5ucJcLE7",
        "outputId": "d27d79ab-ae12-42b0-d55c-07507c714bde",
        "colab": {
          "base_uri": "https://localhost:8080/"
        }
      },
      "outputs": [
        {
          "output_type": "execute_result",
          "data": {
            "text/plain": [
              "['a', 'about', 'above', 'after', 'again']"
            ]
          },
          "metadata": {},
          "execution_count": 4
        }
      ],
      "source": [
        "stop_words = stopwords.words('english')\n",
        "stop_words[:5]"
      ]
    },
    {
      "cell_type": "code",
      "execution_count": 5,
      "metadata": {
        "id": "9MWT586XcLE7",
        "outputId": "3cfed1e7-41c4-4ecb-9232-bec4833a3426",
        "colab": {
          "base_uri": "https://localhost:8080/"
        }
      },
      "outputs": [
        {
          "output_type": "stream",
          "name": "stdout",
          "text": [
            "text:  ['This', 'is', 'a', 'sample', 'sentence', ',', 'showing', 'off', 'the', 'stop', 'words', 'filtration', '.']\n",
            "filtered:  ['This', 'sample', 'sentence', ',', 'showing', 'stop', 'words', 'filtration', '.']\n"
          ]
        }
      ],
      "source": [
        "text = \"This is a sample sentence, showing off the stop words filtration.\"\n",
        "text_tokens = word_tokenize(text)\n",
        "filtered_text = []\n",
        "for w in text_tokens:\n",
        "    if w not in stop_words:\n",
        "        filtered_text.append(w)\n",
        "print('text: ', text_tokens)\n",
        "print('filtered: ', filtered_text)"
      ]
    },
    {
      "cell_type": "markdown",
      "metadata": {
        "id": "8YaXbM2QcLE8"
      },
      "source": [
        "## Stemming and Lemmatization"
      ]
    },
    {
      "cell_type": "code",
      "execution_count": 6,
      "metadata": {
        "id": "VqKHJGEGcLE8",
        "colab": {
          "base_uri": "https://localhost:8080/"
        },
        "outputId": "40b17ce5-8a26-4810-c914-c4af855d9a10"
      },
      "outputs": [
        {
          "output_type": "stream",
          "name": "stdout",
          "text": [
            "['list', 'lists', 'listed', 'listing', 'listings']\n"
          ]
        }
      ],
      "source": [
        "text = 'list lists listed listing listings'\n",
        "tokens = word_tokenize(text)\n",
        "print(tokens)"
      ]
    },
    {
      "cell_type": "code",
      "execution_count": 7,
      "metadata": {
        "id": "U-HQGNIncLE8"
      },
      "outputs": [],
      "source": [
        "lemmatizer = WordNetLemmatizer()\n",
        "stemmer = PorterStemmer()"
      ]
    },
    {
      "cell_type": "code",
      "execution_count": 8,
      "metadata": {
        "id": "toV3-Rb-cLE8",
        "outputId": "c2d0cf1a-03d3-4de9-98b3-57d955430d1a",
        "colab": {
          "base_uri": "https://localhost:8080/"
        }
      },
      "outputs": [
        {
          "output_type": "execute_result",
          "data": {
            "text/plain": [
              "['list', 'list', 'list', 'list', 'list']"
            ]
          },
          "metadata": {},
          "execution_count": 8
        }
      ],
      "source": [
        "[stemmer.stem(t) for t in tokens]"
      ]
    },
    {
      "cell_type": "code",
      "execution_count": 9,
      "metadata": {
        "id": "81cfiWVzcLE9",
        "outputId": "f7b1ed08-ed84-42c2-b0c0-39e058115289",
        "colab": {
          "base_uri": "https://localhost:8080/"
        }
      },
      "outputs": [
        {
          "output_type": "execute_result",
          "data": {
            "text/plain": [
              "['list', 'list', 'listed', 'listing', 'listing']"
            ]
          },
          "metadata": {},
          "execution_count": 9
        }
      ],
      "source": [
        "[lemmatizer.lemmatize(t) for t in tokens]"
      ]
    },
    {
      "cell_type": "markdown",
      "metadata": {
        "id": "S9qdeDNhcLE9"
      },
      "source": [
        "## Wordnet"
      ]
    },
    {
      "cell_type": "code",
      "execution_count": 10,
      "metadata": {
        "id": "V0bIBAMycLE9",
        "outputId": "bbb25c35-5c87-4813-b38f-8e7f068c4948",
        "colab": {
          "base_uri": "https://localhost:8080/"
        }
      },
      "outputs": [
        {
          "output_type": "execute_result",
          "data": {
            "text/plain": [
              "[Synset('car.n.01')]"
            ]
          },
          "metadata": {},
          "execution_count": 10
        }
      ],
      "source": [
        "from nltk.corpus import wordnet as wn\n",
        "wn.synsets('motorcar')"
      ]
    },
    {
      "cell_type": "code",
      "execution_count": 11,
      "metadata": {
        "id": "EffPu94fcLE9",
        "outputId": "1d1cc71f-f385-431b-fe09-fb1203e3a708",
        "colab": {
          "base_uri": "https://localhost:8080/"
        }
      },
      "outputs": [
        {
          "output_type": "execute_result",
          "data": {
            "text/plain": [
              "['car', 'auto', 'automobile', 'machine', 'motorcar']"
            ]
          },
          "metadata": {},
          "execution_count": 11
        }
      ],
      "source": [
        "wn.synset('car.n.01').lemma_names()"
      ]
    },
    {
      "cell_type": "code",
      "execution_count": 12,
      "metadata": {
        "id": "IdxUm95mcLE9",
        "outputId": "e96ba9b9-dc1d-4b5a-e164-8c416b696e57",
        "colab": {
          "base_uri": "https://localhost:8080/"
        }
      },
      "outputs": [
        {
          "output_type": "stream",
          "name": "stdout",
          "text": [
            "['motor_vehicle', 'automotive_vehicle']\n"
          ]
        }
      ],
      "source": [
        "for i in range(len(wn.synset('car.n.01').hypernyms())):\n",
        "    print(wn.synset('car.n.01').hypernyms()[i].lemma_names())"
      ]
    },
    {
      "cell_type": "code",
      "execution_count": 13,
      "metadata": {
        "id": "OUvk1a0FcLE9",
        "outputId": "b961df9b-2e43-4210-bbc3-d15de52f26ef",
        "colab": {
          "base_uri": "https://localhost:8080/"
        }
      },
      "outputs": [
        {
          "output_type": "stream",
          "name": "stdout",
          "text": [
            "['limousine', 'limo']\n",
            "['used-car', 'secondhand_car']\n",
            "['bus', 'jalopy', 'heap']\n",
            "['sport_utility', 'sport_utility_vehicle', 'S.U.V.', 'SUV']\n",
            "['horseless_carriage']\n",
            "['ambulance']\n",
            "['roadster', 'runabout', 'two-seater']\n",
            "['convertible']\n",
            "['subcompact', 'subcompact_car']\n",
            "['touring_car', 'phaeton', 'tourer']\n"
          ]
        }
      ],
      "source": [
        "for i in range(len(wn.synset('car.n.01').hyponyms())//3):\n",
        "    print(wn.synset('car.n.01').hyponyms()[i].lemma_names())"
      ]
    },
    {
      "cell_type": "markdown",
      "metadata": {
        "id": "7gwBVjo8cLE9"
      },
      "source": [
        "## Part of speech tagging"
      ]
    },
    {
      "cell_type": "code",
      "execution_count": 14,
      "metadata": {
        "id": "6BetPdkFcLE9"
      },
      "outputs": [],
      "source": [
        "text = 'Bob is great'"
      ]
    },
    {
      "cell_type": "code",
      "execution_count": 15,
      "metadata": {
        "id": "7BrUzkGWcLE9"
      },
      "outputs": [],
      "source": [
        "words = word_tokenize(text)"
      ]
    },
    {
      "cell_type": "code",
      "execution_count": 16,
      "metadata": {
        "id": "MuqPlDwtcLE-",
        "outputId": "0b410175-1306-4aeb-da12-bba96bbf90a9",
        "colab": {
          "base_uri": "https://localhost:8080/"
        }
      },
      "outputs": [
        {
          "output_type": "execute_result",
          "data": {
            "text/plain": [
              "[('Bob', 'NNP'), ('is', 'VBZ'), ('great', 'JJ')]"
            ]
          },
          "metadata": {},
          "execution_count": 16
        }
      ],
      "source": [
        "from nltk import pos_tag\n",
        "pos_tag(words)"
      ]
    },
    {
      "cell_type": "code",
      "execution_count": 17,
      "metadata": {
        "id": "TTFId17IcLE-",
        "outputId": "80abc4b7-aeae-4d1d-f381-e761a625cff2",
        "colab": {
          "base_uri": "https://localhost:8080/"
        }
      },
      "outputs": [
        {
          "output_type": "stream",
          "name": "stdout",
          "text": [
            "NNP: noun, proper, singular\n",
            "    Motown Venneboerger Czestochwa Ranzer Conchita Trumplane Christos\n",
            "    Oceanside Escobar Kreisler Sawyer Cougar Yvette Ervin ODI Darryl CTCA\n",
            "    Shannon A.K.C. Meltex Liverpool ...\n"
          ]
        }
      ],
      "source": [
        "from nltk.help import upenn_tagset\n",
        "upenn_tagset('NNP')"
      ]
    },
    {
      "cell_type": "code",
      "execution_count": 17,
      "metadata": {
        "id": "Ba8NbEy-cLE-"
      },
      "outputs": [],
      "source": []
    }
  ],
  "metadata": {
    "kernelspec": {
      "display_name": "Python 3",
      "language": "python",
      "name": "python3"
    },
    "language_info": {
      "codemirror_mode": {
        "name": "ipython",
        "version": 3
      },
      "file_extension": ".py",
      "mimetype": "text/x-python",
      "name": "python",
      "nbconvert_exporter": "python",
      "pygments_lexer": "ipython3",
      "version": "3.8.8"
    },
    "colab": {
      "provenance": [],
      "include_colab_link": true
    }
  },
  "nbformat": 4,
  "nbformat_minor": 0
}